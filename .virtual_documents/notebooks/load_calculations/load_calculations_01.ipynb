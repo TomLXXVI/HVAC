from deps import load_packages
load_packages()  # loads the hvac package into Python's search path


import pandas as pd

from hvac import Quantity
from hvac.charts import LineChart

Q_ = Quantity


from hvac.climate import Location

location = Location(
    name='Ghent',
    lat=Q_(51.183, 'deg'),
    lon=Q_(3.8, 'deg'),
    alt=Q_(8.0, 'm'),
    tz='Europe/Brussels'
)


from datetime import date
from hvac.climate import ClimateData

climate_data = ClimateData.create(
    location=location,
    design_day=date(2022, 7, 21),
    Tdb_avg=Q_(26.7, 'degC'),
    Tdb_range=Q_(11.3, 'K'),
    Twb_mc=Q_(19.2, 'degC'),
    tau_beam=0.426,
    tau_dif=2.247
)


t_ax = [h for h in range(0, 25)]

Tdb_prf = [
    T.to('degC').m
    for T in climate_data.Tdb_profile['T']
]

Twb_prf = [
    T.to('degC').m
    for T in climate_data.Twb_profile['T']
]


fig01 = LineChart()
fig01.add_xy_data(
    label='Tdb-profile',
    x1_values=t_ax,
    y1_values=Tdb_prf
)
fig01.add_xy_data(
    label='Twb-profile',
    x1_values=t_ax,
    y1_values=Twb_prf
)
fig01.x1.add_title('time')
fig01.x1.scale(lower_limit=0, upper_limit=24, step=1)
fig01.y1.add_title('temperature, °C')
fig01.add_legend()
fig01.show()


irr_beam_prf = [
    G.to('W / m ** 2').m
    for G in climate_data.irr_profile['beam']
]

irr_dir_prf = [
    G.to('W / m ** 2').m
    for G in climate_data.irr_profile['dir_hor']
]

irr_dif_prf = [
    G.to('W / m ** 2').m
    for G in climate_data.irr_profile['dif']
]

irr_glo_prf = [
    G.to('W / m ** 2').m
    for G in climate_data.irr_profile['glo_hor']
]


fig02 = LineChart()
fig02.add_xy_data(
    label='beam',
    x1_values=t_ax,
    y1_values=irr_beam_prf
)
fig02.add_xy_data(
    label='direct',
    x1_values=t_ax,
    y1_values=irr_dir_prf
)
fig02.add_xy_data(
    label='diffuse',
    x1_values=t_ax,
    y1_values=irr_dif_prf
)
fig02.add_xy_data(
    label='global',
    x1_values=t_ax,
    y1_values=irr_glo_prf
)
fig02.x1.add_title('time')
fig02.x1.scale(lower_limit=0, upper_limit=24, step=1)
fig02.y1.add_title('solar irradiance, W/m²')
fig02.add_legend()
fig02.show()


from hvac.cooling_load_calc import (
    Material,
    Geometry,
    HeatFlowDirection,
    MechanicalFastening,
    BuildingComponent,
    AirSpace,
    SurfaceLayer,
    ConstructionAssembly
)


interior_surface = SurfaceLayer.create(
    ID='interior surface film',
    geometry=Geometry(),
    heat_flow_direction=HeatFlowDirection.HORIZONTAL,
    Tmn=Q_(20, 'degC'),
    internal_surface=True
)


gypsum_layer = BuildingComponent.create(
    ID='gypsum layer',
    material=Material(
        k=Q_(0.56, 'W / (m * K)'),
        rho=Q_(1300, 'kg / m ** 3'),
        c=Q_(1000, 'J / (kg * K)')
    ),
    geometry=Geometry(t=Q_(0.015, 'm'))
)


inner_leaf = BuildingComponent.create(
    ID='inner leaf',
    material=Material(
        k=Q_(0.51, 'W / (m * K)'),
        rho=Q_(1400, 'kg / m ** 3'),
        c=Q_(1000, 'J / (kg * K)')
    ),
    geometry=Geometry(t=Q_(0.14, 'm'))
)


insulation = BuildingComponent.create(
    ID='insulation',
    material=Material(
        k=Q_(0.05, 'W / (m * K)'),
        rho=Q_(30, 'kg / m ** 3'),
        c=Q_(1000, 'J / (kg * K)')
    ),
    geometry=Geometry(t=Q_(0.03, 'm'))
)


air_space = AirSpace.create(
    ID='air space',
    geometry=Geometry(t=Q_(0.03, 'm')),
    dT=Q_(5, 'K'),
    heat_flow_direction=HeatFlowDirection.HORIZONTAL,
    Tmn=Q_(10, 'degC'),
)


outer_leaf = BuildingComponent.create(
    ID='outer leaf',
    material=Material(
        k=(Q_(1.59, 'W / (m * K)')),
        rho=Q_(1922, 'kg / m ** 3'),
        c=Q_(837, 'J / (kg * K)')
    ),
    geometry=Geometry(t=Q_(0.09, 'm'))
)


exterior_surface = SurfaceLayer.create(
    ID='exterior surface film',
    geometry=Geometry(),
    heat_flow_direction=HeatFlowDirection.HORIZONTAL,
    Tmn=Q_(10, 'degC'),
    internal_surface=False,
    wind_speed=Q_(4, 'm / s')
)


constr_assem_ext_wall = ConstructionAssembly.create(
    ID='exterior wall',
    layers=[
        # IMPORTANT: layers must always be arranged
        # from exterior towards interior
        exterior_surface,
        outer_leaf,
        insulation,
        inner_leaf,
        gypsum_layer,
        interior_surface
    ]
)


print(
    f"R-value {constr_assem_ext_wall.ID}: "
    f"{constr_assem_ext_wall.R.to('m ** 2 * K / W'):~P.3f}"
)
print(
    f"U-value {constr_assem_ext_wall.ID}: "
    f"{constr_assem_ext_wall.U.to('W / (m ** 2 * K)'):~P.3f}"
)


constr_assem_ext_wall_corr = constr_assem_ext_wall.apply_insulation_correction(
    insulation_layer_ID='insulation',
    insulation_level=1,
    mechanical_fastening=MechanicalFastening.create(
        diameter=Q_(2, 'mm'),
        number_per_unit_area=Q_(4, '1 / m ** 2'),
        insulation_thickness=Q_(3, 'cm'),
        length=Q_(3, 'cm')
    )
)
constr_assem_ext_wall_corr.ID += '_corrected'


print(
    f"R-value {constr_assem_ext_wall_corr.ID}: "
    f"{constr_assem_ext_wall_corr.R.to('m ** 2 * K / W'):~P.3f}"
)

print(
    f"U-value {constr_assem_ext_wall_corr.ID}: "
    f"{constr_assem_ext_wall_corr.U.to('W / (m ** 2 * K)'):~P.3f}"
)


ConstructionAssembly.db_path = './database/construction_assemblies.db'


constr_assem_ext_wall_corr.save()


exterior_wall_assembly_corrected.layers['inner leaf'].slices = 4
exterior_wall_assembly_corrected.layers['outer leaf'].slices = 3


from hvac.cooling_load_calc.core import ExteriorBuildingElement


exterior_wall = ExteriorBuildingElement.create(
    ID='exterior wall',
    azimuth=Q_(180, 'deg'),
    tilt=Q_(90, 'deg'),
    width=Q_(5, 'm'),
    height=Q_(3, 'm'),
    climate_data=climate_data,
    construction_assembly=exterior_wall_assembly_corrected,
    surface_absorptance=Q_(0.63, 'frac'),
    T_int_fun=lambda t: 22.0
)


heat_flow_data = exterior_wall.get_heat_transfer(unit='W')

with pd.option_context(
    'display.max_rows', None,
    'display.max_columns', None,
    'display.width', 300
):
    print(heat_flow_data)


fig03 = LineChart()
fig03.add_xy_data(
    label='Q_ext',
    x1_values=[t.hour for t in heat_flow_data.index],
    y1_values=heat_flow_data['Q_ext'].values
)
fig03.add_xy_data(
    label='Q_int',
    x1_values=[t.hour for t in heat_flow_data.index],
    y1_values=heat_flow_data['Q_int'].values
)
fig03.add_xy_data(
    label='Q_steady',
    x1_values=[t.hour for t in heat_flow_data.index],
    y1_values=heat_flow_data['Q_steady'].values
)
fig03.x1.add_title('time, hr')
fig03.x1.scale(lower_limit=0, upper_limit=24, step=1)
fig03.y1.add_title('heat flow, W')
fig03.add_legend(columns=3)
fig03.show()


irr_profile = exterior_wall.irr_profile()

with pd.option_context(
    'display.max_rows', None,
    'display.max_columns', None,
    'display.width', 300
):
    print(irr_profile)


fig04 = LineChart()
fig04.add_xy_data(
    label='I_glo',
    x1_values=[t.hour for t in irr_profile.index],
    y1_values=irr_profile['glo_sur'].values
)
fig04.add_xy_data(
    label='I_dir',
    x1_values=[t.hour for t in irr_profile.index],
    y1_values=irr_profile['dir_sur'].values
)
fig04.add_xy_data(
    label='I_dif',
    x1_values=[t.hour for t in irr_profile.index],
    y1_values=irr_profile['dif_sur'].values
)
fig04.x1.add_title('time, hr')
fig04.x1.scale(lower_limit=0, upper_limit=24, step=1)
fig04.y1.add_title('irradiance, W/m²')
fig04.add_legend(columns=3)
fig04.show()


T_sol_profile = exterior_wall.temp_profile()['T_sol']

with pd.option_context(
    'display.max_rows', None,
    'display.max_columns', None,
    'display.width', 300
):
    print(T_sol_profile)


fig05 = LineChart()
fig05.add_xy_data(
    label='T_sol',
    x1_values=[t.hour for t in T_sol_profile.index],
    y1_values=T_sol_profile['T_sol'].values
)
fig05.x1.add_title('time, hr')
fig05.x1.scale(lower_limit=0, upper_limit=24, step=1)
fig05.y1.add_title('sol-air temperature, °C')
fig05.show()


from hvac.cooling_load_calc import (
    WindowThermalProperties,
    ExteriorShadingDevice
)


wnd_5a = WindowThermalProperties(
    ID='window_5a_operable_wood/vinyl',
    U=Q_(2.86, 'W / (m ** 2 * K)'),
    SHGC_cog_dir={
        0.00: 0.76,
        40.0: 0.74,
        50.0: 0.71,
        60.0: 0.64,
        70.0: 0.50,
        80.0: 0.26
    },
    SHGC_cog_dif=0.66,
    SHGC_wnd=0.62
)


WindowThermalProperties.db_path = "./database/window_props.db"
wnd_5a.save()


exterior_wall.add_window(
    ID='window 1',
    width=Q_(1.25, 'm'),
    height=Q_(2.5, 'm'),
    therm_props=wnd_5a,
    ext_shading_dev=ExteriorShadingDevice(
        horizontal_projection=Q_(150, 'cm'),
        height_offset=Q_(10, 'cm')
    )
)


from hvac.cooling_load_calc import InteriorShadingDevice


exterior_wall.add_window(
    ID='window 2',
    width=Q_(1.25, 'm'),
    height=Q_(2.5, 'm'),
    therm_props=WindowThermalProperties.load('window_5a_operable_wood/vinyl'),
    int_shading_dev=InteriorShadingDevice(
        IAC_dif=0.86,
        F_rad=0.88,
        IAC_0=0.98,
        IAC_60=0.97
    )
)


window_1 = exterior_wall.windows['window 1']

with pd.option_context(
    'display.max_rows', None,
    'display.max_columns', None,
    'display.width', 300
):
    print(window_1.get_heat_transfer(T_int=Q_(22, 'degC')))



